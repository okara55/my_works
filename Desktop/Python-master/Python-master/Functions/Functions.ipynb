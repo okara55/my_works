{
 "cells": [
  {
   "cell_type": "markdown",
   "metadata": {},
   "source": [
    "# Functions\n",
    "\n"
   ]
  },
  {
   "cell_type": "markdown",
   "metadata": {},
   "source": [
    "## What will we cover today?\n",
    "\n",
    "* what are the functions in programming?\n",
    "* how to write a func?\n",
    "* types of funcs?\n",
    "* examples\n",
    "* assingments"
   ]
  },
  {
   "cell_type": "markdown",
   "metadata": {},
   "source": [
    "## What are the functions in programming?\n",
    "\n",
    "Functions are a convenient way to divide your code into useful blocks, allowing us to order our code, make it more readable, reuse it and save some time. Also functions are a key way to define interfaces so programmers can share their code.\n"
   ]
  },
  {
   "cell_type": "markdown",
   "metadata": {},
   "source": [
    "## How to write a func?\n",
    "\n",
    "* Functions in python are defined using the block keyword \"def\", followed with the function's name as the block's name.\n",
    "\n",
    "For example:"
   ]
  },
  {
   "cell_type": "code",
   "execution_count": null,
   "metadata": {},
   "outputs": [],
   "source": [
    "def my_function():\n",
    "    print(\"Hello From My Function!\")\n",
    "    "
   ]
  },
  {
   "cell_type": "markdown",
   "metadata": {},
   "source": [
    "* Functions may also receive arguments (variables passed from the caller to the function). \n",
    "\n",
    "For example:"
   ]
  },
  {
   "cell_type": "code",
   "execution_count": null,
   "metadata": {},
   "outputs": [],
   "source": [
    "def my_function_with_args(username, greeting):\n",
    "    print(\"Hello, %s , From My Function!, I wish you %s\"%(username, greeting))\n",
    "    \n",
    "my_function_with_args('dsfds',1234)\n",
    "    "
   ]
  },
  {
   "cell_type": "markdown",
   "metadata": {},
   "source": [
    "* Functions may return a value to the caller, using the keyword- 'return' . \n",
    "\n",
    "For example:"
   ]
  },
  {
   "cell_type": "code",
   "execution_count": null,
   "metadata": {},
   "outputs": [],
   "source": [
    "def sum_two_numbers(a, b):\n",
    "    return  a + b\n",
    "\n",
    "sum_two_numbers(5,8)"
   ]
  },
  {
   "cell_type": "markdown",
   "metadata": {},
   "source": [
    "* A default argument is a parameter that assumes a default value if a value is not provided in the function call for that argument.\n",
    "\n",
    "For example:"
   ]
  },
  {
   "cell_type": "code",
   "execution_count": null,
   "metadata": {},
   "outputs": [],
   "source": [
    "def myFun__preDefined_param(x, y=50): \n",
    "    print(\"x: \", x) \n",
    "    print(\"y: \", y)\n",
    "\n",
    "myFun__preDefined_param(5)\n",
    "myFun__preDefined_param(x=5, y=10)\n",
    "myFun__preDefined_param(y=10, x=5)"
   ]
  },
  {
   "cell_type": "markdown",
   "metadata": {},
   "source": [
    "## Question\n",
    "\n",
    "   ### myFun__preDefined_param(x=5, y=10) is equal to myFun__preDefined_param(y=10, x=5) ?\n",
    "   "
   ]
  },
  {
   "cell_type": "markdown",
   "metadata": {},
   "source": [
    "## Types of Funcs?\n",
    "\n",
    "* There are three types of functions in Python\n",
    "\n",
    "1) Built-in functions, such as help() to ask for help, min() to get the minimum value, print() to print an object to the terminal\n",
    "\n",
    "2) User-Defined Functions (UDFs), which are functions that users create to help them out\n",
    "\n",
    "3) Anonymous functions, which are also called lambda functions because they are not declared with the standard def keyword."
   ]
  },
  {
   "cell_type": "code",
   "execution_count": null,
   "metadata": {},
   "outputs": [],
   "source": [
    "cube = lambda x: x*x*x\n",
    "cube(7)"
   ]
  },
  {
   "cell_type": "markdown",
   "metadata": {},
   "source": [
    "## Examples\n"
   ]
  },
  {
   "cell_type": "code",
   "execution_count": null,
   "metadata": {},
   "outputs": [],
   "source": [
    "#functions immediately exit when they come across a return statement\n",
    "def run():\n",
    "  for x in range(10):\n",
    "     if x == 2:\n",
    "       return\n",
    "  print(\"Run!\")\n",
    "  \n",
    "run()"
   ]
  },
  {
   "cell_type": "code",
   "execution_count": null,
   "metadata": {},
   "outputs": [],
   "source": [
    "def hello():\n",
    "  name = str(input(\"Enter your name: \"))\n",
    "  if name:\n",
    "    print (\"Hello \" + str(name))\n",
    "  else:\n",
    "    print(\"Hello World\") \n",
    "  return \n",
    "  \n",
    "hello()"
   ]
  },
  {
   "cell_type": "code",
   "execution_count": null,
   "metadata": {},
   "outputs": [],
   "source": [
    "#list of benefits multiple funcs\n",
    "def list_benefits():\n",
    "    return \"More organized code\", \"More readable code\", \"Easier code reuse\", \"Allowing programmers to share and connect code together\"\n",
    "    \n",
    "def build_sentence(benefit):\n",
    "    return \"%s is a benefit of functions!\" % benefit\n",
    "\n",
    "def name_the_benefits_of_functions():\n",
    "    list_of_benefits = list_benefits()\n",
    "    for benefit in list_of_benefits:\n",
    "        print(build_sentence(benefit))\n",
    "\n",
    "name_the_benefits_of_functions()"
   ]
  },
  {
   "cell_type": "markdown",
   "metadata": {},
   "source": [
    "## Library System:\n",
    "\n",
    "1) Menu.\n",
    "2) Add a book.\n",
    "    A book= Name, Author, YearofPublish, shelf, count\n",
    "3) Print the list of books and give total count.\n",
    "4) Search a book and give info of availability. \n",
    "5) Exit"
   ]
  },
  {
   "cell_type": "code",
   "execution_count": null,
   "metadata": {},
   "outputs": [],
   "source": [
    "\n",
    "    \n",
    "\n",
    "\n",
    "    \n",
    "add_book()"
   ]
  },
  {
   "cell_type": "code",
   "execution_count": null,
   "metadata": {},
   "outputs": [],
   "source": [
    "  \n",
    "           \n",
    "main()"
   ]
  },
  {
   "cell_type": "code",
   "execution_count": null,
   "metadata": {},
   "outputs": [
    {
     "name": "stdout",
     "output_type": "stream",
     "text": [
      "Welcome\n",
      "Please choose an option\n",
      "a - Add a book with infos\n",
      "l - List all of books\n",
      "s - Search a book\n",
      "e - Exit\n",
      "Enter your selection: s\n",
      "Your chose: s\n",
      "fasf/dsf/23/23/2\n",
      "\n",
      "ffff/ffff/333/3333/3\n",
      "\n",
      "Please choose an option\n",
      "a - Add a book with infos\n",
      "l - List all of books\n",
      "s - Search a book\n",
      "e - Exit\n"
     ]
    }
   ],
   "source": [
    "def add_book() :\n",
    "    #import pandas as pd\n",
    "    \n",
    "    Name=str(input(\"please enter book name\"))\n",
    "    Author=str(input(\"please enter Author name\"))\n",
    "    YearofPublish=str(input(\"please enter Year of Public \"))\n",
    "    shelf=str(input(\"please enter shelf number\"))\n",
    "    count=str(input(\"please enter book count\"))\n",
    "    \n",
    "    f=open('books.txt',\"a\")\n",
    "    f.write(Name +'/'+ Author+'/'+ YearofPublish+'/'+ shelf+'/'+ count+ '\\n')\n",
    "    f.close\n",
    "    print(\"finisshsss\")\n",
    "    \n",
    "    #df = pd.DataFrame({'Name':Name,'Author':Author,'YearofPublish':YearofPublish,'shelf':shelf,'count':count})\n",
    "    #print(df)\n",
    "        \n",
    "def my_exit():\n",
    "    exit() \n",
    "def search():\n",
    "    f = open(\"books.txt\", \"r\")\n",
    "    for x in f:\n",
    "        print(x)\n",
    "\n",
    "def main():\n",
    "    \n",
    "    print(\"Welcome\")\n",
    "    \n",
    "    while(True):\n",
    "        print(\"Please choose an option\")\n",
    "        print(\"a - Add a book with infos\\nl - List all of books\")\n",
    "        print(\"s - Search a book\")\n",
    "        print(\"e - Exit\")\n",
    "        \n",
    "        chosen = input(\"Enter your selection: \")\n",
    "        \n",
    "        print(\"Your chose: {}\".format(chosen))\n",
    "        \n",
    "        if chosen == \"a\" or chosen == \"A\":\n",
    "            add_book()\n",
    "            print(\"<-------- Adding a book -------->\")\n",
    "            \n",
    "            #Adding function which uses filesystem.\n",
    "            \n",
    "        elif chosen == \"l\":\n",
    "            print(\"<-------- List of books -------->\") \n",
    "            \n",
    "            #Listing function with count of all books.\n",
    "            \n",
    "        #Complete other menu options and give message for wrong entries.\n",
    "        elif chosen==\"s\":\n",
    "            search()\n",
    "            \n",
    "        elif chosen==\"e\":\n",
    "            return my_exit()\n",
    "        \n",
    "        else:\n",
    "            print('please enter correct option')\n",
    "    \n",
    "\n",
    "main()\n"
   ]
  },
  {
   "cell_type": "code",
   "execution_count": null,
   "metadata": {},
   "outputs": [],
   "source": []
  },
  {
   "cell_type": "code",
   "execution_count": null,
   "metadata": {},
   "outputs": [],
   "source": []
  },
  {
   "cell_type": "code",
   "execution_count": null,
   "metadata": {},
   "outputs": [],
   "source": []
  },
  {
   "cell_type": "markdown",
   "metadata": {},
   "source": [
    "## Push To GitHub with Command Line \n",
    "\n",
    "cd repo\n",
    "cd ..\n",
    "\n",
    "echo\n",
    "\n",
    "git init\n",
    "git add\n",
    "git commit -m \"first commit\"\n",
    "git push -u origin master\n"
   ]
  },
  {
   "cell_type": "markdown",
   "metadata": {},
   "source": [
    "=========================NOTES====================================\n",
    "\n",
    "1.Break and return;\n",
    "\n",
    "Return kodun cagrildigi yere gelir. \n",
    "\n",
    "Break donguden cikmak icin.\n"
   ]
  },
  {
   "cell_type": "code",
   "execution_count": null,
   "metadata": {},
   "outputs": [],
   "source": []
  }
 ],
 "metadata": {
  "kernelspec": {
   "display_name": "Python 3",
   "language": "python",
   "name": "python3"
  },
  "language_info": {
   "codemirror_mode": {
    "name": "ipython",
    "version": 3
   },
   "file_extension": ".py",
   "mimetype": "text/x-python",
   "name": "python",
   "nbconvert_exporter": "python",
   "pygments_lexer": "ipython3",
   "version": "3.7.6"
  }
 },
 "nbformat": 4,
 "nbformat_minor": 2
}
